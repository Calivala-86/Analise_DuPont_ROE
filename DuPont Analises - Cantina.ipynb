{
 "cells": [
  {
   "cell_type": "markdown",
   "id": "064c60f6",
   "metadata": {},
   "source": [
    "## O que é Analise Dupont?\n",
    "\n",
    "A análise DuPont é uma fórmula usada para avaliar o desempenho financeiro de uma empresa com base em seu retorno sobre o patrimônio líquido (ROE).\n",
    "\n",
    "ROE: Revela quão bem uma empresa utiliza o capital dos acionistas.   \n",
    "\n",
    "    ROE = (𝐿𝑢𝑐𝑟𝑜 𝑙𝑖𝑞𝑢𝑖𝑑𝑜)/(𝑃𝑎𝑡𝑟𝑖𝑚ô𝑛𝑖𝑜 𝑙𝑖𝑞𝑢𝑖𝑑𝑜/𝐶𝑎𝑝𝑖𝑡𝑎𝑙𝑝𝑟ó𝑝𝑟𝑖𝑜)\n",
    "    \n",
    "### Existem três rácios financeiras principais que impulsionam o ROE:\n",
    "\n",
    "    ROE =(𝐿𝑢𝑐𝑟𝑜 𝑙𝑖𝑞𝑢𝑖𝑑𝑜)/𝑉𝑒𝑛𝑑𝑎𝑠∗𝑣𝑒𝑛𝑑𝑎𝑠/𝐴𝑡𝑖𝑣𝑜𝑠∗𝐴𝑡𝑖𝑣𝑜/(𝑃𝑎𝑡𝑟𝑖𝑚ó𝑛𝑖𝑜 𝑙𝑖𝑞𝑢𝑖𝑑𝑜)\n",
    "    \n",
    "Eficiência operacional [Rendibilidade Liquida das vendas]: Que é representada pela margem de lucro líquido ou lucro líquido dividido pelas vendas ou receitas totais. \n",
    "Eficiência no uso de ativos [Rotação do Ativo]: Que é presentada pela vendas divido pelo ativos\n",
    "Alavancagem financeira [Multiplicador do Património]: Uma rácio medida pelo multiplicador de patrimônio, que é igual dos ativos dividido pelo patrimônio médio\n",
    "    \n",
    "### Utilidade \n",
    "Investidores: Podem utiliza-la para identificar atividades financeiras que impactam o ROE                                                        \n",
    "Comparação entra Empresas: Os investidores também podem usar essa análise para comparar a eficéncia operacional de duas empresas que atuam no mesmo setor.                                   Gestores: Podem empregá-la para identificar fraquezas que precisam ser abordadas.\n",
    "Gestores: Podem empregá-la para identificar fraquezas que precisam ser abordadas\n",
    "\n",
    "### Limitações  \n",
    "Dependência de Dados e processos contábeis: Depende de dados e equações contábeis que podem ser suscetiveis a manipulações.  \n",
    "Falta de Contexto: É necessário ao avaliar se os indices individuais são altos ou baixos.\n"
   ]
  },
  {
   "cell_type": "code",
   "execution_count": 19,
   "id": "9032434a",
   "metadata": {},
   "outputs": [],
   "source": [
    "# //by: Fernando Ecumbi && DuPont Analises\n",
    "\n",
    "# import Lib\n",
    "\n",
    "import pandas as pd"
   ]
  },
  {
   "cell_type": "code",
   "execution_count": 20,
   "id": "7aa28c0a",
   "metadata": {},
   "outputs": [],
   "source": [
    "# Dados da Cantina nr.1\n",
    "Cantina_1 ={\n",
    "    \"Primeiro Ano\":{'Lucro_liquido_1':1000,'Vendas_1':10000,'Ativos_1':5000,'Património_1':2000},\n",
    "    \"Segundo Ano\":{'Lucro_liquido_1':1200,'Vendas_1':10000,'Ativos_1':4800,'Património_1':2000}\n",
    "}\n",
    "\n",
    "#Cantina_1"
   ]
  },
  {
   "cell_type": "code",
   "execution_count": 21,
   "id": "4d2e5391",
   "metadata": {},
   "outputs": [],
   "source": [
    "# Dados da Cantina nr.1\n",
    "Cantina_2 ={\n",
    "    \"Primeiro Ano\":{'Lucro_liquido_2':2100,'Vendas_2':17500,'Ativos_2':87500,'Património_2':5000},\n",
    "    \"Segundo Ano\":{'Lucro_liquido_2':2100,'Vendas_2':17500,'Ativos_2':8750,'Património_2':3500}\n",
    "}"
   ]
  },
  {
   "cell_type": "code",
   "execution_count": 22,
   "id": "2288cb9f",
   "metadata": {},
   "outputs": [],
   "source": [
    "# Criando as tabelas\n",
    "\n",
    "Cantina_1_df = pd.DataFrame(Cantina_1)\n",
    "Cantina_2_df = pd.DataFrame(Cantina_2)\n"
   ]
  },
  {
   "cell_type": "code",
   "execution_count": 23,
   "id": "fc598ce1",
   "metadata": {},
   "outputs": [
    {
     "name": "stdout",
     "output_type": "stream",
     "text": [
      "Dados Financeiros da Cantina_1\n"
     ]
    },
    {
     "data": {
      "text/html": [
       "<div>\n",
       "<style scoped>\n",
       "    .dataframe tbody tr th:only-of-type {\n",
       "        vertical-align: middle;\n",
       "    }\n",
       "\n",
       "    .dataframe tbody tr th {\n",
       "        vertical-align: top;\n",
       "    }\n",
       "\n",
       "    .dataframe thead th {\n",
       "        text-align: right;\n",
       "    }\n",
       "</style>\n",
       "<table border=\"1\" class=\"dataframe\">\n",
       "  <thead>\n",
       "    <tr style=\"text-align: right;\">\n",
       "      <th></th>\n",
       "      <th>Primeiro Ano</th>\n",
       "      <th>Segundo Ano</th>\n",
       "    </tr>\n",
       "  </thead>\n",
       "  <tbody>\n",
       "    <tr>\n",
       "      <th>Lucro_liquido_1</th>\n",
       "      <td>1000</td>\n",
       "      <td>1200</td>\n",
       "    </tr>\n",
       "    <tr>\n",
       "      <th>Vendas_1</th>\n",
       "      <td>10000</td>\n",
       "      <td>10000</td>\n",
       "    </tr>\n",
       "    <tr>\n",
       "      <th>Ativos_1</th>\n",
       "      <td>5000</td>\n",
       "      <td>4800</td>\n",
       "    </tr>\n",
       "    <tr>\n",
       "      <th>Património_1</th>\n",
       "      <td>2000</td>\n",
       "      <td>2000</td>\n",
       "    </tr>\n",
       "  </tbody>\n",
       "</table>\n",
       "</div>"
      ],
      "text/plain": [
       "                 Primeiro Ano  Segundo Ano\n",
       "Lucro_liquido_1          1000         1200\n",
       "Vendas_1                10000        10000\n",
       "Ativos_1                 5000         4800\n",
       "Património_1             2000         2000"
      ]
     },
     "execution_count": 23,
     "metadata": {},
     "output_type": "execute_result"
    }
   ],
   "source": [
    "# Mostrar Cantina_1_df\n",
    "print('Dados Financeiros da Cantina_1')\n",
    "Cantina_1_df"
   ]
  },
  {
   "cell_type": "code",
   "execution_count": 24,
   "id": "e9415d0d",
   "metadata": {},
   "outputs": [
    {
     "name": "stdout",
     "output_type": "stream",
     "text": [
      "Dados Financeiros da Cantina_2\n"
     ]
    },
    {
     "data": {
      "text/html": [
       "<div>\n",
       "<style scoped>\n",
       "    .dataframe tbody tr th:only-of-type {\n",
       "        vertical-align: middle;\n",
       "    }\n",
       "\n",
       "    .dataframe tbody tr th {\n",
       "        vertical-align: top;\n",
       "    }\n",
       "\n",
       "    .dataframe thead th {\n",
       "        text-align: right;\n",
       "    }\n",
       "</style>\n",
       "<table border=\"1\" class=\"dataframe\">\n",
       "  <thead>\n",
       "    <tr style=\"text-align: right;\">\n",
       "      <th></th>\n",
       "      <th>Primeiro Ano</th>\n",
       "      <th>Segundo Ano</th>\n",
       "    </tr>\n",
       "  </thead>\n",
       "  <tbody>\n",
       "    <tr>\n",
       "      <th>Lucro_liquido_2</th>\n",
       "      <td>2100</td>\n",
       "      <td>2100</td>\n",
       "    </tr>\n",
       "    <tr>\n",
       "      <th>Vendas_2</th>\n",
       "      <td>17500</td>\n",
       "      <td>17500</td>\n",
       "    </tr>\n",
       "    <tr>\n",
       "      <th>Ativos_2</th>\n",
       "      <td>87500</td>\n",
       "      <td>8750</td>\n",
       "    </tr>\n",
       "    <tr>\n",
       "      <th>Património_2</th>\n",
       "      <td>5000</td>\n",
       "      <td>3500</td>\n",
       "    </tr>\n",
       "  </tbody>\n",
       "</table>\n",
       "</div>"
      ],
      "text/plain": [
       "                 Primeiro Ano  Segundo Ano\n",
       "Lucro_liquido_2          2100         2100\n",
       "Vendas_2                17500        17500\n",
       "Ativos_2                87500         8750\n",
       "Património_2             5000         3500"
      ]
     },
     "execution_count": 24,
     "metadata": {},
     "output_type": "execute_result"
    }
   ],
   "source": [
    "# Mostrar Cantina_2_df\n",
    "print('Dados Financeiros da Cantina_2')\n",
    "Cantina_2_df"
   ]
  },
  {
   "cell_type": "code",
   "execution_count": 25,
   "id": "52d7f9dc",
   "metadata": {},
   "outputs": [],
   "source": [
    "# Extraindo as ativitidas da tabela do primeiro ano cantina_1\n",
    "\n",
    "lucro_liq_1 = Cantina_1_df['Primeiro Ano'].iloc[0]\n",
    "vendas_1 = Cantina_1_df['Primeiro Ano'].iloc[1]\n",
    "ativos_1 = Cantina_1_df['Primeiro Ano'].iloc[2]\n",
    "patrimonio_1 = Cantina_1_df['Primeiro Ano'].iloc[3]\n",
    "\n",
    "# Calc da DuPont - calc 3 racios\n",
    "\n",
    "# RLV = Rendibilidade liquida das vendas\n",
    "# RT = Rotação do Ativo\n",
    "# MPL = Multiplicador do Patrimonio Liquido\n",
    "\n",
    "RLV_1 =  lucro_liq_1/ vendas_1\n",
    "RT_1 = vendas_1 / ativos_1\n",
    "MPL_1 = ativos_1 / patrimonio_1\n",
    "DuPont_1 = RLV_1 * RT_1 * MPL_1 * 100\n",
    "\n",
    "\n",
    "# Extraindo as ativitidas da tabela do segundo ano antina_1\n",
    "\n",
    "lucro_liq_12 = Cantina_1_df['Segundo Ano'].iloc[0]\n",
    "vendas_12 = Cantina_1_df['Segundo Ano'].iloc[1]\n",
    "ativos_12 = Cantina_1_df['Segundo Ano'].iloc[2]\n",
    "patrimonio_12 = Cantina_1_df['Segundo Ano'].iloc[3]\n",
    "\n",
    "RLV_12 =  lucro_liq_12/ vendas_12\n",
    "RT_12 = vendas_12 / ativos_12\n",
    "MPL_12 = ativos_12 / patrimonio_12\n",
    "DuPont_12 = RLV_12 * RT_12 * MPL_12 * 100"
   ]
  },
  {
   "cell_type": "code",
   "execution_count": 26,
   "id": "986789c8",
   "metadata": {},
   "outputs": [],
   "source": [
    "# Extraindo as ativitidas da tabela do primeiro ano cantina_2\n",
    "\n",
    "lucro_liq_2 = Cantina_2_df['Primeiro Ano'].iloc[0]\n",
    "vendas_2 = Cantina_2_df['Primeiro Ano'].iloc[1]\n",
    "ativos_2 = Cantina_2_df['Primeiro Ano'].iloc[2]\n",
    "patrimonio_2 = Cantina_2_df['Primeiro Ano'].iloc[3]\n",
    "\n",
    "# Calc da DuPont - calc 3 racios\n",
    "\n",
    "# RLV = Rendibilidade liquida das vendas\n",
    "# RT = Rotação do Ativo\n",
    "# MPL = Multiplicador do Patrimonio Liquido\n",
    "# DuPont = ROE = Retorno sobre o atrimonio Liquido\n",
    "\n",
    "RLV_2 =  lucro_liq_2/ vendas_2\n",
    "RT_2 = vendas_2 / ativos_2\n",
    "MPL_2 = ativos_2 / patrimonio_2\n",
    "DuPont_2 = RLV_2 * RT_2 * MPL_2 * 100\n",
    "\n",
    "\n",
    "# Extraindo as ativitidas da tabela do segundo ano antina_2\n",
    "\n",
    "lucro_liq_22 = Cantina_2_df['Segundo Ano'].iloc[0]\n",
    "vendas_22 = Cantina_2_df['Segundo Ano'].iloc[1]\n",
    "ativos_22 = Cantina_2_df['Segundo Ano'].iloc[2]\n",
    "patrimonio_22 = Cantina_2_df['Segundo Ano'].iloc[3]\n",
    "\n",
    "RLV_22 =  lucro_liq_22/ vendas_22\n",
    "RT_22 = vendas_22 / ativos_22\n",
    "MPL_22 = ativos_22 / patrimonio_22\n",
    "DuPont_22 = RLV_22 * RT_12 * MPL_22 * 100"
   ]
  },
  {
   "cell_type": "code",
   "execution_count": 27,
   "id": "d30f1779",
   "metadata": {},
   "outputs": [],
   "source": [
    "# Adicionando os Calcs na tabela Cantana_1 Primeiro Ano\n",
    "\n",
    "Cantina_1_df.loc['Rendibilidade liquida das Vendas', \"Primeiro Ano\"] = RLV_1\n",
    "Cantina_1_df.loc['Rotação do Ativo', \"Primeiro Ano\"] = RT_1\n",
    "Cantina_1_df.loc['Multiplicador do Patrimonio Liquido', \"Primeiro Ano\"] = MPL_1\n",
    "Cantina_1_df.loc['ROE', \"Primeiro Ano\"] = DuPont_1\n",
    "\n",
    "# Adicionando os Calcs na tabela Cantana_1 Segundo Ano\n",
    "Cantina_1_df.loc['Rendibilidade liquida das Vendas', \"Segundo Ano\"] = RLV_12\n",
    "Cantina_1_df.loc['Rotação do Ativo', \"Segundo Ano\"] = RT_12\n",
    "Cantina_1_df.loc['Multiplicador do Patrimonio Liquido', \"Segundo Ano\"] = MPL_12\n",
    "Cantina_1_df.loc['ROE', \"Segundo Ano\"] = DuPont_12\n"
   ]
  },
  {
   "cell_type": "code",
   "execution_count": 28,
   "id": "5b35e2cc",
   "metadata": {},
   "outputs": [
    {
     "name": "stdout",
     "output_type": "stream",
     "text": [
      "Dados Financeiros da Cantina_1\n"
     ]
    },
    {
     "data": {
      "text/html": [
       "<div>\n",
       "<style scoped>\n",
       "    .dataframe tbody tr th:only-of-type {\n",
       "        vertical-align: middle;\n",
       "    }\n",
       "\n",
       "    .dataframe tbody tr th {\n",
       "        vertical-align: top;\n",
       "    }\n",
       "\n",
       "    .dataframe thead th {\n",
       "        text-align: right;\n",
       "    }\n",
       "</style>\n",
       "<table border=\"1\" class=\"dataframe\">\n",
       "  <thead>\n",
       "    <tr style=\"text-align: right;\">\n",
       "      <th></th>\n",
       "      <th>Primeiro Ano</th>\n",
       "      <th>Segundo Ano</th>\n",
       "    </tr>\n",
       "  </thead>\n",
       "  <tbody>\n",
       "    <tr>\n",
       "      <th>Lucro_liquido_1</th>\n",
       "      <td>1000.0</td>\n",
       "      <td>1200.000000</td>\n",
       "    </tr>\n",
       "    <tr>\n",
       "      <th>Vendas_1</th>\n",
       "      <td>10000.0</td>\n",
       "      <td>10000.000000</td>\n",
       "    </tr>\n",
       "    <tr>\n",
       "      <th>Ativos_1</th>\n",
       "      <td>5000.0</td>\n",
       "      <td>4800.000000</td>\n",
       "    </tr>\n",
       "    <tr>\n",
       "      <th>Património_1</th>\n",
       "      <td>2000.0</td>\n",
       "      <td>2000.000000</td>\n",
       "    </tr>\n",
       "    <tr>\n",
       "      <th>Rendibilidade liquida das Vendas</th>\n",
       "      <td>0.1</td>\n",
       "      <td>0.120000</td>\n",
       "    </tr>\n",
       "    <tr>\n",
       "      <th>Rotação do Ativo</th>\n",
       "      <td>2.0</td>\n",
       "      <td>2.083333</td>\n",
       "    </tr>\n",
       "    <tr>\n",
       "      <th>Multiplicador do Patrimonio Liquido</th>\n",
       "      <td>2.5</td>\n",
       "      <td>2.400000</td>\n",
       "    </tr>\n",
       "    <tr>\n",
       "      <th>ROE</th>\n",
       "      <td>50.0</td>\n",
       "      <td>60.000000</td>\n",
       "    </tr>\n",
       "  </tbody>\n",
       "</table>\n",
       "</div>"
      ],
      "text/plain": [
       "                                     Primeiro Ano   Segundo Ano\n",
       "Lucro_liquido_1                            1000.0   1200.000000\n",
       "Vendas_1                                  10000.0  10000.000000\n",
       "Ativos_1                                   5000.0   4800.000000\n",
       "Património_1                               2000.0   2000.000000\n",
       "Rendibilidade liquida das Vendas              0.1      0.120000\n",
       "Rotação do Ativo                              2.0      2.083333\n",
       "Multiplicador do Patrimonio Liquido           2.5      2.400000\n",
       "ROE                                          50.0     60.000000"
      ]
     },
     "execution_count": 28,
     "metadata": {},
     "output_type": "execute_result"
    }
   ],
   "source": [
    "print('Dados Financeiros da Cantina_1')\n",
    "Cantina_1_df"
   ]
  },
  {
   "cell_type": "markdown",
   "id": "787433d4",
   "metadata": {},
   "source": [
    "## Cabtina_1 Observações:\n",
    "   1. Aumento do Lucro Liquido: Reflete uma melhoria na eficiéncia operacional\n",
    "   2. Redução do Ativo: Sugere uma maior eficiéncia no uso dos ativos, além de possibilitar a diminiução \n",
    "      das dividas, considerando que o capital próprio permanece inalterado."
   ]
  },
  {
   "cell_type": "code",
   "execution_count": 29,
   "id": "d6314981",
   "metadata": {},
   "outputs": [],
   "source": [
    "# Adicionando os Calcs na tabela Cantana_2 Primeiro Ano\n",
    "\n",
    "Cantina_2_df.loc['Rendibilidade liquida das Vendas 2', \"Primeiro Ano\"] = RLV_2\n",
    "Cantina_2_df.loc['Rotação do Ativo 2', \"Primeiro Ano\"] = RT_2\n",
    "Cantina_2_df.loc['Multiplicador do Patrimonio Liquido 2', \"Primeiro Ano\"] = MPL_2\n",
    "Cantina_2_df.loc['ROE 2', \"Primeiro Ano\"] = DuPont_2\n",
    "\n",
    "# Adicionando os Calcs na tabela Cantana_2 Segundo Ano\n",
    "Cantina_2_df.loc['Rendibilidade liquida das Vendas 2', \"Segundo Ano\"] = RLV_22\n",
    "Cantina_2_df.loc['Rotação do Ativo 2', \"Segundo Ano\"] = RT_22\n",
    "Cantina_2_df.loc['Multiplicador do Patrimonio Liquido 2', \"Segundo Ano\"] = MPL_22\n",
    "Cantina_2_df.loc['ROE', \"Segundo Ano\"] = DuPont_22"
   ]
  },
  {
   "cell_type": "code",
   "execution_count": 30,
   "id": "37200b4a",
   "metadata": {
    "scrolled": true
   },
   "outputs": [
    {
     "name": "stdout",
     "output_type": "stream",
     "text": [
      "Dados Financeiros da Cantina_2\n"
     ]
    },
    {
     "data": {
      "text/html": [
       "<div>\n",
       "<style scoped>\n",
       "    .dataframe tbody tr th:only-of-type {\n",
       "        vertical-align: middle;\n",
       "    }\n",
       "\n",
       "    .dataframe tbody tr th {\n",
       "        vertical-align: top;\n",
       "    }\n",
       "\n",
       "    .dataframe thead th {\n",
       "        text-align: right;\n",
       "    }\n",
       "</style>\n",
       "<table border=\"1\" class=\"dataframe\">\n",
       "  <thead>\n",
       "    <tr style=\"text-align: right;\">\n",
       "      <th></th>\n",
       "      <th>Primeiro Ano</th>\n",
       "      <th>Segundo Ano</th>\n",
       "    </tr>\n",
       "  </thead>\n",
       "  <tbody>\n",
       "    <tr>\n",
       "      <th>Lucro_liquido_2</th>\n",
       "      <td>2100.00</td>\n",
       "      <td>2100.00</td>\n",
       "    </tr>\n",
       "    <tr>\n",
       "      <th>Vendas_2</th>\n",
       "      <td>17500.00</td>\n",
       "      <td>17500.00</td>\n",
       "    </tr>\n",
       "    <tr>\n",
       "      <th>Ativos_2</th>\n",
       "      <td>87500.00</td>\n",
       "      <td>8750.00</td>\n",
       "    </tr>\n",
       "    <tr>\n",
       "      <th>Património_2</th>\n",
       "      <td>5000.00</td>\n",
       "      <td>3500.00</td>\n",
       "    </tr>\n",
       "    <tr>\n",
       "      <th>Rendibilidade liquida das Vendas 2</th>\n",
       "      <td>0.12</td>\n",
       "      <td>0.12</td>\n",
       "    </tr>\n",
       "    <tr>\n",
       "      <th>Rotação do Ativo 2</th>\n",
       "      <td>0.20</td>\n",
       "      <td>2.00</td>\n",
       "    </tr>\n",
       "    <tr>\n",
       "      <th>Multiplicador do Patrimonio Liquido 2</th>\n",
       "      <td>17.50</td>\n",
       "      <td>2.50</td>\n",
       "    </tr>\n",
       "    <tr>\n",
       "      <th>ROE 2</th>\n",
       "      <td>42.00</td>\n",
       "      <td>NaN</td>\n",
       "    </tr>\n",
       "    <tr>\n",
       "      <th>ROE</th>\n",
       "      <td>NaN</td>\n",
       "      <td>62.50</td>\n",
       "    </tr>\n",
       "  </tbody>\n",
       "</table>\n",
       "</div>"
      ],
      "text/plain": [
       "                                       Primeiro Ano  Segundo Ano\n",
       "Lucro_liquido_2                             2100.00      2100.00\n",
       "Vendas_2                                   17500.00     17500.00\n",
       "Ativos_2                                   87500.00      8750.00\n",
       "Património_2                                5000.00      3500.00\n",
       "Rendibilidade liquida das Vendas 2             0.12         0.12\n",
       "Rotação do Ativo 2                             0.20         2.00\n",
       "Multiplicador do Patrimonio Liquido 2         17.50         2.50\n",
       "ROE 2                                         42.00          NaN\n",
       "ROE                                             NaN        62.50"
      ]
     },
     "execution_count": 30,
     "metadata": {},
     "output_type": "execute_result"
    }
   ],
   "source": [
    "print('Dados Financeiros da Cantina_2')\n",
    "Cantina_2_df"
   ]
  },
  {
   "cell_type": "markdown",
   "id": "4e9850d9",
   "metadata": {},
   "source": [
    "## Cabtina_2 Observações:¶\n",
    "   1. Aumento na Alancagem:Indica um aumento nas dividas, resultando na redução do capital próprio.\n",
    "   2. Mantém Lucro e Ativos: Sugere riscos adicionais, uma vez que a divida ainda não ocasionou impacto \n",
    "      significativo ou contribiu com valor real."
   ]
  },
  {
   "cell_type": "code",
   "execution_count": null,
   "id": "1dcecf25",
   "metadata": {},
   "outputs": [],
   "source": []
  }
 ],
 "metadata": {
  "kernelspec": {
   "display_name": "Python 3 (ipykernel)",
   "language": "python",
   "name": "python3"
  },
  "language_info": {
   "codemirror_mode": {
    "name": "ipython",
    "version": 3
   },
   "file_extension": ".py",
   "mimetype": "text/x-python",
   "name": "python",
   "nbconvert_exporter": "python",
   "pygments_lexer": "ipython3",
   "version": "3.11.4"
  }
 },
 "nbformat": 4,
 "nbformat_minor": 5
}
